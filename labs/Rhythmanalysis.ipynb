{
 "cells": [
  {
   "cell_type": "markdown",
   "id": "24d0d766",
   "metadata": {},
   "source": [
    "Using Lefebvre's rhythmanalysis as an analytic method"
   ]
  },
  {
   "cell_type": "code",
   "execution_count": null,
   "id": "bfae0a5c",
   "metadata": {},
   "outputs": [],
   "source": [
    "import pandas as pd\n",
    "from midiutil import MIDIFile\n",
    "import math"
   ]
  },
  {
   "cell_type": "markdown",
   "id": "7f9a882e",
   "metadata": {},
   "source": [
    "Let's set up MIDI here and its defaults. It's a single track and channel "
   ]
  },
  {
   "cell_type": "code",
   "execution_count": null,
   "id": "aa6ffaca",
   "metadata": {},
   "outputs": [],
   "source": [
    "track    = 0\n",
    "channel  = 0\n",
    "time     = 0    # In beats\n",
    "duration = 1    # In beats\n",
    "tempo    = 600   # In BPM\n",
    "volume   = 62  # 0-127, as per the MIDI standard\n",
    "# One track, defaults to format 1 (tempo track is created automatically)\n",
    "# set tracks to max number of streams connected\n",
    "MyMIDI = MIDIFile(1)  \n",
    "MyMIDI.addTempo(track, time, tempo)"
   ]
  },
  {
   "cell_type": "markdown",
   "id": "a355c511",
   "metadata": {},
   "source": [
    "Here we import the data. "
   ]
  },
  {
   "cell_type": "code",
   "execution_count": null,
   "id": "c5eae7f8",
   "metadata": {},
   "outputs": [],
   "source": [
    "file_name='musicmile/bluetooth_1634469751686.txt'"
   ]
  },
  {
   "cell_type": "code",
   "execution_count": null,
   "id": "8725ad4a",
   "metadata": {},
   "outputs": [],
   "source": [
    "bluetooth = pd.read_csv(file_name, header=None)\n",
    "bluetooth.head()"
   ]
  },
  {
   "cell_type": "code",
   "execution_count": null,
   "id": "93b3bfdf",
   "metadata": {},
   "outputs": [],
   "source": [
    "start = bluetooth[0].min()\n",
    "start"
   ]
  },
  {
   "cell_type": "markdown",
   "id": "666ff986",
   "metadata": {},
   "source": [
    "Add the entity to the track. "
   ]
  },
  {
   "cell_type": "code",
   "execution_count": null,
   "id": "28365e01",
   "metadata": {
    "scrolled": true
   },
   "outputs": [],
   "source": [
    "def clean_organisation(org):\n",
    "    return org.replace('{', '').replace('}','').split('=')[0]\n",
    "\n",
    "bluetooth['company'] = bluetooth[7].apply(clean_organisation)\n",
    "bluetooth"
   ]
  },
  {
   "cell_type": "code",
   "execution_count": null,
   "id": "e26dd730",
   "metadata": {},
   "outputs": [],
   "source": [
    "def add_rhythm(time):\n",
    "    beat_time = math.floor(time - start)/1000\n",
    "    MyMIDI.addNote(track, channel, 60,beat_time, 1, 60)"
   ]
  },
  {
   "cell_type": "code",
   "execution_count": null,
   "id": "4269459a",
   "metadata": {},
   "outputs": [],
   "source": [
    "for times in bluetooth[0]:\n",
    "    add_rhythm(times)"
   ]
  },
  {
   "cell_type": "code",
   "execution_count": null,
   "id": "edfab241",
   "metadata": {},
   "outputs": [],
   "source": [
    "with open(file_name[:-4]+\"rhythmsingle.mid\", \"wb\") as output_file:\n",
    "    MyMIDI.writeFile(output_file)"
   ]
  },
  {
   "cell_type": "code",
   "execution_count": null,
   "id": "b90e164f",
   "metadata": {},
   "outputs": [],
   "source": [
    "def add_filter_rhythm(time, organisation, filter_by):\n",
    "    beat_time = math.floor(time - start)/1000\n",
    "    if organisation != filter_by:\n",
    "        MyMIDI.addNote(track, channel, 60,beat_time, 1, 60)"
   ]
  },
  {
   "cell_type": "code",
   "execution_count": null,
   "id": "bd49fa51",
   "metadata": {},
   "outputs": [],
   "source": [
    "for times in bluetooth.to_numpy():\n",
    "    print(times)\n",
    "    add_filter_rhythm(times[0], times[10], 76)"
   ]
  },
  {
   "cell_type": "code",
   "execution_count": null,
   "id": "4c62bd0f",
   "metadata": {},
   "outputs": [],
   "source": [
    "with open(file_name[:-4]+\"rhythmfilter.mid\", \"wb\") as output_file:\n",
    "    MyMIDI.writeFile(output_file)"
   ]
  },
  {
   "cell_type": "code",
   "execution_count": null,
   "id": "1404f8db",
   "metadata": {},
   "outputs": [],
   "source": [
    "MyMIDI = MIDIFile(4)  \n",
    "tempo=120\n",
    "MyMIDI.addTempo(track, time, tempo)\n",
    "\n",
    "def add_rhythms(time, data_field):\n",
    "    beat_time = math.floor(time - start)/100\n",
    "    if \"76\" in data_field:\n",
    "        MyMIDI.addNote(0, 1, 59, beat_time, 0.2, 40)\n",
    "    else:\n",
    "        MyMIDI.addNote(0, 1, 58, beat_time, 0.3, 60)"
   ]
  },
  {
   "cell_type": "code",
   "execution_count": null,
   "id": "57e0c7ba",
   "metadata": {},
   "outputs": [],
   "source": [
    "def get_data(datum):\n",
    "    return [datum[0], datum[10]] \n",
    "\n",
    "new_rhythms = [get_data(blue) for blue in bluetooth.to_numpy()]\n",
    "for data in new_rhythms:\n",
    "    add_rhythms(data[0], data[1])\n",
    "\n",
    "with open(file_name[:-4]+\"rhythmdual.mid\", \"wb\") as output_file:\n",
    "    MyMIDI.writeFile(output_file)"
   ]
  },
  {
   "cell_type": "code",
   "execution_count": null,
   "id": "3fec4dfd",
   "metadata": {},
   "outputs": [],
   "source": []
  },
  {
   "cell_type": "code",
   "execution_count": null,
   "id": "5addeede",
   "metadata": {},
   "outputs": [],
   "source": []
  }
 ],
 "metadata": {
  "kernelspec": {
   "display_name": "Python 3 (ipykernel)",
   "language": "python",
   "name": "python3"
  },
  "language_info": {
   "codemirror_mode": {
    "name": "ipython",
    "version": 3
   },
   "file_extension": ".py",
   "mimetype": "text/x-python",
   "name": "python",
   "nbconvert_exporter": "python",
   "pygments_lexer": "ipython3",
   "version": "3.9.7"
  }
 },
 "nbformat": 4,
 "nbformat_minor": 5
}
